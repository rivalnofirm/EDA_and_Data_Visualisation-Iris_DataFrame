{
  "nbformat": 4,
  "nbformat_minor": 0,
  "metadata": {
    "colab": {
      "name": "FIfa Talented.ipynb",
      "provenance": [],
      "authorship_tag": "ABX9TyPzXp/xVctc5OAGUgAaP136",
      "include_colab_link": true
    },
    "kernelspec": {
      "name": "python3",
      "display_name": "Python 3"
    },
    "accelerator": "GPU"
  },
  "cells": [
    {
      "cell_type": "markdown",
      "metadata": {
        "id": "view-in-github",
        "colab_type": "text"
      },
      "source": [
        "<a href=\"https://colab.research.google.com/github/rivalnofirm/EDA_and_Data_Visualisation-Iris_DataFrame/blob/main/FIfa_Talented.ipynb\" target=\"_parent\"><img src=\"https://colab.research.google.com/assets/colab-badge.svg\" alt=\"Open In Colab\"/></a>"
      ]
    },
    {
      "cell_type": "code",
      "metadata": {
        "colab": {
          "base_uri": "https://localhost:8080/"
        },
        "id": "527goPOSmfq0",
        "outputId": "591039b3-b6c4-4287-f60e-21303af7480e"
      },
      "source": [
        "# connecting google drive\n",
        "from google.colab import drive\n",
        "drive.mount('/content/drive')"
      ],
      "execution_count": 1,
      "outputs": [
        {
          "output_type": "stream",
          "text": [
            "Mounted at /content/drive\n"
          ],
          "name": "stdout"
        }
      ]
    },
    {
      "cell_type": "code",
      "metadata": {
        "id": "QGuiH84FnRpA"
      },
      "source": [
        "import os\n",
        "os.chdir('drive/MyDrive/Machine Learning/Linear Regression/FIFA-19-Talented-Players-top-five-European-LR')"
      ],
      "execution_count": 2,
      "outputs": []
    }
  ]
}